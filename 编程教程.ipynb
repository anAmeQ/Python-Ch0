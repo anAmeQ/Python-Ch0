{
 "cells": [
  {
   "cell_type": "markdown",
   "metadata": {},
   "source": [
    "# 教6个月前的自己如何编程"
   ]
  },
  {
   "cell_type": "markdown",
   "metadata": {},
   "source": [
    "在8.15号早晨才开始写我对自己的拖延水平是服气的。如果教6个月前的自己如何编程的话，首先我会对他讲：孩子，先改改你拖延的习惯吧==。"
   ]
  },
  {
   "cell_type": "markdown",
   "metadata": {},
   "source": [
    "## 练习"
   ]
  },
  {
   "cell_type": "markdown",
   "metadata": {},
   "source": [
    "没有什么比练习更能提高自己的水平了。输出大于输入。每天2个小时应该是一般要求，做不到的话不是说你不用心，只能说你跟学会这门语言有缘无分了==。"
   ]
  },
  {
   "cell_type": "markdown",
   "metadata": {},
   "source": [
    "## 寻找师友"
   ]
  },
  {
   "cell_type": "markdown",
   "metadata": {},
   "source": [
    "如果说练习让你在自己的闭环内不断优化，师友的帮助会让你突破自己的闭环局限，从开阔的视角思考编程是怎么一回事。\n",
    "多思考，多提问，多交流。寻找自己的能力极限，在师友的倒逼下不断提高。"
   ]
  },
  {
   "cell_type": "markdown",
   "metadata": {},
   "source": [
    "## 反思"
   ]
  },
  {
   "cell_type": "markdown",
   "metadata": {},
   "source": [
    "每天像这样写写总结，不要过去一天学了什么都不知道。很盲目且低效。要对自己的水平有个整体把握才能更好进步。"
   ]
  },
  {
   "cell_type": "markdown",
   "metadata": {},
   "source": [
    "## 具体知识点"
   ]
  },
  {
   "cell_type": "markdown",
   "metadata": {},
   "source": [
    "这部分先pass，以后再补充。没办法作业拖的太久了。这星期必须赶上进度。"
   ]
  }
 ],
 "metadata": {
  "kernelspec": {
   "display_name": "Python 3",
   "language": "python",
   "name": "python3"
  },
  "language_info": {
   "codemirror_mode": {
    "name": "ipython",
    "version": 3
   },
   "file_extension": ".py",
   "mimetype": "text/x-python",
   "name": "python",
   "nbconvert_exporter": "python",
   "pygments_lexer": "ipython3",
   "version": "3.6.1"
  }
 },
 "nbformat": 4,
 "nbformat_minor": 2
}
